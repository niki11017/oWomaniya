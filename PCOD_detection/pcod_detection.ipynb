{
 "cells": [
  {
   "cell_type": "code",
   "execution_count": 1,
   "metadata": {
    "id": "VhB7KXavOjaw"
   },
   "outputs": [],
   "source": [
    "# Pandas is used for data manipulation\n",
    "import pandas as pd"
   ]
  },
  {
   "cell_type": "code",
   "execution_count": 2,
   "metadata": {
    "colab": {
     "base_uri": "https://localhost:8080/",
     "height": 234
    },
    "id": "PzozHQbJPK71",
    "outputId": "326c9a73-b8da-4f96-f3fe-96137ae03bf7"
   },
   "outputs": [
    {
     "data": {
      "text/html": [
       "<div>\n",
       "<style scoped>\n",
       "    .dataframe tbody tr th:only-of-type {\n",
       "        vertical-align: middle;\n",
       "    }\n",
       "\n",
       "    .dataframe tbody tr th {\n",
       "        vertical-align: top;\n",
       "    }\n",
       "\n",
       "    .dataframe thead th {\n",
       "        text-align: right;\n",
       "    }\n",
       "</style>\n",
       "<table border=\"1\" class=\"dataframe\">\n",
       "  <thead>\n",
       "    <tr style=\"text-align: right;\">\n",
       "      <th></th>\n",
       "      <th>Sl No</th>\n",
       "      <th>Patient File No</th>\n",
       "      <th>pcos</th>\n",
       "      <th>age</th>\n",
       "      <th>pregnant</th>\n",
       "      <th>aborptions</th>\n",
       "      <th>Bloated</th>\n",
       "      <th>facial_hair</th>\n",
       "      <th>chest_hair</th>\n",
       "      <th>obesity</th>\n",
       "      <th>...</th>\n",
       "      <th>Height</th>\n",
       "      <th>BMI</th>\n",
       "      <th>Blood_Group</th>\n",
       "      <th>Pulse_rate</th>\n",
       "      <th>Cycle_months</th>\n",
       "      <th>Cycle_length</th>\n",
       "      <th>Marriage_Status</th>\n",
       "      <th>Hip</th>\n",
       "      <th>Waist</th>\n",
       "      <th>whratio</th>\n",
       "    </tr>\n",
       "  </thead>\n",
       "  <tbody>\n",
       "    <tr>\n",
       "      <th>0</th>\n",
       "      <td>1</td>\n",
       "      <td>10001</td>\n",
       "      <td>0</td>\n",
       "      <td>28</td>\n",
       "      <td>0</td>\n",
       "      <td>0</td>\n",
       "      <td>0</td>\n",
       "      <td>0</td>\n",
       "      <td>0</td>\n",
       "      <td>0</td>\n",
       "      <td>...</td>\n",
       "      <td>152.0</td>\n",
       "      <td>19.300000</td>\n",
       "      <td>15</td>\n",
       "      <td>78</td>\n",
       "      <td>1</td>\n",
       "      <td>5</td>\n",
       "      <td>7.0</td>\n",
       "      <td>36</td>\n",
       "      <td>30</td>\n",
       "      <td>0.833333</td>\n",
       "    </tr>\n",
       "    <tr>\n",
       "      <th>1</th>\n",
       "      <td>2</td>\n",
       "      <td>10002</td>\n",
       "      <td>0</td>\n",
       "      <td>36</td>\n",
       "      <td>1</td>\n",
       "      <td>0</td>\n",
       "      <td>0</td>\n",
       "      <td>0</td>\n",
       "      <td>0</td>\n",
       "      <td>0</td>\n",
       "      <td>...</td>\n",
       "      <td>161.5</td>\n",
       "      <td>24.921163</td>\n",
       "      <td>15</td>\n",
       "      <td>74</td>\n",
       "      <td>1</td>\n",
       "      <td>5</td>\n",
       "      <td>11.0</td>\n",
       "      <td>38</td>\n",
       "      <td>32</td>\n",
       "      <td>0.842105</td>\n",
       "    </tr>\n",
       "    <tr>\n",
       "      <th>2</th>\n",
       "      <td>3</td>\n",
       "      <td>10003</td>\n",
       "      <td>1</td>\n",
       "      <td>33</td>\n",
       "      <td>1</td>\n",
       "      <td>0</td>\n",
       "      <td>1</td>\n",
       "      <td>1</td>\n",
       "      <td>1</td>\n",
       "      <td>1</td>\n",
       "      <td>...</td>\n",
       "      <td>165.0</td>\n",
       "      <td>25.270891</td>\n",
       "      <td>11</td>\n",
       "      <td>72</td>\n",
       "      <td>2</td>\n",
       "      <td>5</td>\n",
       "      <td>10.0</td>\n",
       "      <td>40</td>\n",
       "      <td>36</td>\n",
       "      <td>0.900000</td>\n",
       "    </tr>\n",
       "    <tr>\n",
       "      <th>3</th>\n",
       "      <td>4</td>\n",
       "      <td>10004</td>\n",
       "      <td>0</td>\n",
       "      <td>37</td>\n",
       "      <td>0</td>\n",
       "      <td>0</td>\n",
       "      <td>0</td>\n",
       "      <td>0</td>\n",
       "      <td>0</td>\n",
       "      <td>0</td>\n",
       "      <td>...</td>\n",
       "      <td>148.0</td>\n",
       "      <td>29.674945</td>\n",
       "      <td>13</td>\n",
       "      <td>72</td>\n",
       "      <td>1</td>\n",
       "      <td>5</td>\n",
       "      <td>4.0</td>\n",
       "      <td>42</td>\n",
       "      <td>36</td>\n",
       "      <td>0.857143</td>\n",
       "    </tr>\n",
       "    <tr>\n",
       "      <th>4</th>\n",
       "      <td>5</td>\n",
       "      <td>10005</td>\n",
       "      <td>0</td>\n",
       "      <td>25</td>\n",
       "      <td>1</td>\n",
       "      <td>0</td>\n",
       "      <td>0</td>\n",
       "      <td>0</td>\n",
       "      <td>0</td>\n",
       "      <td>0</td>\n",
       "      <td>...</td>\n",
       "      <td>161.0</td>\n",
       "      <td>20.060954</td>\n",
       "      <td>11</td>\n",
       "      <td>72</td>\n",
       "      <td>1</td>\n",
       "      <td>5</td>\n",
       "      <td>1.0</td>\n",
       "      <td>37</td>\n",
       "      <td>30</td>\n",
       "      <td>0.810811</td>\n",
       "    </tr>\n",
       "  </tbody>\n",
       "</table>\n",
       "<p>5 rows × 31 columns</p>\n",
       "</div>"
      ],
      "text/plain": [
       "   Sl No  Patient File No  pcos  age  pregnant  aborptions  Bloated  \\\n",
       "0      1            10001     0   28         0           0        0   \n",
       "1      2            10002     0   36         1           0        0   \n",
       "2      3            10003     1   33         1           0        1   \n",
       "3      4            10004     0   37         0           0        0   \n",
       "4      5            10005     0   25         1           0        0   \n",
       "\n",
       "   facial_hair  chest_hair  obesity  ...  Height        BMI  Blood_Group  \\\n",
       "0            0           0        0  ...   152.0  19.300000           15   \n",
       "1            0           0        0  ...   161.5  24.921163           15   \n",
       "2            1           1        1  ...   165.0  25.270891           11   \n",
       "3            0           0        0  ...   148.0  29.674945           13   \n",
       "4            0           0        0  ...   161.0  20.060954           11   \n",
       "\n",
       "   Pulse_rate  Cycle_months  Cycle_length  Marriage_Status  Hip  Waist  \\\n",
       "0          78             1             5              7.0   36     30   \n",
       "1          74             1             5             11.0   38     32   \n",
       "2          72             2             5             10.0   40     36   \n",
       "3          72             1             5              4.0   42     36   \n",
       "4          72             1             5              1.0   37     30   \n",
       "\n",
       "    whratio  \n",
       "0  0.833333  \n",
       "1  0.842105  \n",
       "2  0.900000  \n",
       "3  0.857143  \n",
       "4  0.810811  \n",
       "\n",
       "[5 rows x 31 columns]"
      ]
     },
     "execution_count": 2,
     "metadata": {},
     "output_type": "execute_result"
    }
   ],
   "source": [
    "# Read in data and display first 5 rows\n",
    "features = pd.read_csv('pcos-detection.csv')\n",
    "features.head(5)\n"
   ]
  },
  {
   "cell_type": "code",
   "execution_count": 3,
   "metadata": {
    "colab": {
     "base_uri": "https://localhost:8080/"
    },
    "id": "cfMcY6llPUKP",
    "outputId": "9e44bdbe-7891-4573-a5b9-9631453f406b"
   },
   "outputs": [
    {
     "name": "stdout",
     "output_type": "stream",
     "text": [
      "The shape of our features is: (541, 31)\n"
     ]
    }
   ],
   "source": [
    "print('The shape of our features is:', features.shape)"
   ]
  },
  {
   "cell_type": "code",
   "execution_count": 4,
   "metadata": {
    "colab": {
     "base_uri": "https://localhost:8080/",
     "height": 324
    },
    "id": "CnVjqoQ8PaUb",
    "outputId": "95a509d8-673c-40d3-d962-3656953dc897"
   },
   "outputs": [
    {
     "data": {
      "text/html": [
       "<div>\n",
       "<style scoped>\n",
       "    .dataframe tbody tr th:only-of-type {\n",
       "        vertical-align: middle;\n",
       "    }\n",
       "\n",
       "    .dataframe tbody tr th {\n",
       "        vertical-align: top;\n",
       "    }\n",
       "\n",
       "    .dataframe thead th {\n",
       "        text-align: right;\n",
       "    }\n",
       "</style>\n",
       "<table border=\"1\" class=\"dataframe\">\n",
       "  <thead>\n",
       "    <tr style=\"text-align: right;\">\n",
       "      <th></th>\n",
       "      <th>Sl No</th>\n",
       "      <th>Patient File No</th>\n",
       "      <th>pcos</th>\n",
       "      <th>age</th>\n",
       "      <th>pregnant</th>\n",
       "      <th>aborptions</th>\n",
       "      <th>Bloated</th>\n",
       "      <th>facial_hair</th>\n",
       "      <th>chest_hair</th>\n",
       "      <th>obesity</th>\n",
       "      <th>...</th>\n",
       "      <th>Height</th>\n",
       "      <th>BMI</th>\n",
       "      <th>Blood_Group</th>\n",
       "      <th>Pulse_rate</th>\n",
       "      <th>Cycle_months</th>\n",
       "      <th>Cycle_length</th>\n",
       "      <th>Marriage_Status</th>\n",
       "      <th>Hip</th>\n",
       "      <th>Waist</th>\n",
       "      <th>whratio</th>\n",
       "    </tr>\n",
       "  </thead>\n",
       "  <tbody>\n",
       "    <tr>\n",
       "      <th>count</th>\n",
       "      <td>541.000000</td>\n",
       "      <td>541.000000</td>\n",
       "      <td>541.000000</td>\n",
       "      <td>541.000000</td>\n",
       "      <td>541.000000</td>\n",
       "      <td>541.000000</td>\n",
       "      <td>541.000000</td>\n",
       "      <td>541.000000</td>\n",
       "      <td>541.000000</td>\n",
       "      <td>541.000000</td>\n",
       "      <td>...</td>\n",
       "      <td>541.000000</td>\n",
       "      <td>541.000000</td>\n",
       "      <td>541.000000</td>\n",
       "      <td>541.000000</td>\n",
       "      <td>541.000000</td>\n",
       "      <td>541.00000</td>\n",
       "      <td>541.000000</td>\n",
       "      <td>541.000000</td>\n",
       "      <td>541.000000</td>\n",
       "      <td>541.000000</td>\n",
       "    </tr>\n",
       "    <tr>\n",
       "      <th>mean</th>\n",
       "      <td>271.000000</td>\n",
       "      <td>10271.000000</td>\n",
       "      <td>0.327172</td>\n",
       "      <td>31.430684</td>\n",
       "      <td>0.380776</td>\n",
       "      <td>0.288355</td>\n",
       "      <td>0.369686</td>\n",
       "      <td>0.321627</td>\n",
       "      <td>0.240296</td>\n",
       "      <td>0.380776</td>\n",
       "      <td>...</td>\n",
       "      <td>156.484835</td>\n",
       "      <td>24.311285</td>\n",
       "      <td>13.802218</td>\n",
       "      <td>73.247689</td>\n",
       "      <td>1.720887</td>\n",
       "      <td>4.94085</td>\n",
       "      <td>7.666728</td>\n",
       "      <td>37.992606</td>\n",
       "      <td>33.841035</td>\n",
       "      <td>0.891895</td>\n",
       "    </tr>\n",
       "    <tr>\n",
       "      <th>std</th>\n",
       "      <td>156.317519</td>\n",
       "      <td>156.317519</td>\n",
       "      <td>0.469615</td>\n",
       "      <td>5.411006</td>\n",
       "      <td>0.486027</td>\n",
       "      <td>0.692575</td>\n",
       "      <td>0.483166</td>\n",
       "      <td>0.467533</td>\n",
       "      <td>0.427658</td>\n",
       "      <td>0.486027</td>\n",
       "      <td>...</td>\n",
       "      <td>6.033545</td>\n",
       "      <td>4.056399</td>\n",
       "      <td>1.840812</td>\n",
       "      <td>4.430285</td>\n",
       "      <td>1.135989</td>\n",
       "      <td>1.49202</td>\n",
       "      <td>4.810733</td>\n",
       "      <td>3.967920</td>\n",
       "      <td>3.596894</td>\n",
       "      <td>0.046326</td>\n",
       "    </tr>\n",
       "    <tr>\n",
       "      <th>min</th>\n",
       "      <td>1.000000</td>\n",
       "      <td>10001.000000</td>\n",
       "      <td>0.000000</td>\n",
       "      <td>20.000000</td>\n",
       "      <td>0.000000</td>\n",
       "      <td>0.000000</td>\n",
       "      <td>0.000000</td>\n",
       "      <td>0.000000</td>\n",
       "      <td>0.000000</td>\n",
       "      <td>0.000000</td>\n",
       "      <td>...</td>\n",
       "      <td>137.000000</td>\n",
       "      <td>12.417882</td>\n",
       "      <td>11.000000</td>\n",
       "      <td>13.000000</td>\n",
       "      <td>1.000000</td>\n",
       "      <td>0.00000</td>\n",
       "      <td>0.000000</td>\n",
       "      <td>26.000000</td>\n",
       "      <td>24.000000</td>\n",
       "      <td>0.755556</td>\n",
       "    </tr>\n",
       "    <tr>\n",
       "      <th>25%</th>\n",
       "      <td>136.000000</td>\n",
       "      <td>10136.000000</td>\n",
       "      <td>0.000000</td>\n",
       "      <td>28.000000</td>\n",
       "      <td>0.000000</td>\n",
       "      <td>0.000000</td>\n",
       "      <td>0.000000</td>\n",
       "      <td>0.000000</td>\n",
       "      <td>0.000000</td>\n",
       "      <td>0.000000</td>\n",
       "      <td>...</td>\n",
       "      <td>152.000000</td>\n",
       "      <td>21.641274</td>\n",
       "      <td>13.000000</td>\n",
       "      <td>72.000000</td>\n",
       "      <td>1.000000</td>\n",
       "      <td>4.00000</td>\n",
       "      <td>4.000000</td>\n",
       "      <td>36.000000</td>\n",
       "      <td>32.000000</td>\n",
       "      <td>0.857143</td>\n",
       "    </tr>\n",
       "    <tr>\n",
       "      <th>50%</th>\n",
       "      <td>271.000000</td>\n",
       "      <td>10271.000000</td>\n",
       "      <td>0.000000</td>\n",
       "      <td>31.000000</td>\n",
       "      <td>0.000000</td>\n",
       "      <td>0.000000</td>\n",
       "      <td>0.000000</td>\n",
       "      <td>0.000000</td>\n",
       "      <td>0.000000</td>\n",
       "      <td>0.000000</td>\n",
       "      <td>...</td>\n",
       "      <td>156.000000</td>\n",
       "      <td>24.238227</td>\n",
       "      <td>14.000000</td>\n",
       "      <td>72.000000</td>\n",
       "      <td>1.000000</td>\n",
       "      <td>5.00000</td>\n",
       "      <td>7.000000</td>\n",
       "      <td>38.000000</td>\n",
       "      <td>34.000000</td>\n",
       "      <td>0.894737</td>\n",
       "    </tr>\n",
       "    <tr>\n",
       "      <th>75%</th>\n",
       "      <td>406.000000</td>\n",
       "      <td>10406.000000</td>\n",
       "      <td>1.000000</td>\n",
       "      <td>35.000000</td>\n",
       "      <td>1.000000</td>\n",
       "      <td>0.000000</td>\n",
       "      <td>1.000000</td>\n",
       "      <td>1.000000</td>\n",
       "      <td>0.000000</td>\n",
       "      <td>1.000000</td>\n",
       "      <td>...</td>\n",
       "      <td>160.000000</td>\n",
       "      <td>26.634958</td>\n",
       "      <td>15.000000</td>\n",
       "      <td>74.000000</td>\n",
       "      <td>2.000000</td>\n",
       "      <td>5.00000</td>\n",
       "      <td>10.000000</td>\n",
       "      <td>40.000000</td>\n",
       "      <td>36.000000</td>\n",
       "      <td>0.928571</td>\n",
       "    </tr>\n",
       "    <tr>\n",
       "      <th>max</th>\n",
       "      <td>541.000000</td>\n",
       "      <td>10541.000000</td>\n",
       "      <td>1.000000</td>\n",
       "      <td>48.000000</td>\n",
       "      <td>1.000000</td>\n",
       "      <td>5.000000</td>\n",
       "      <td>1.000000</td>\n",
       "      <td>1.000000</td>\n",
       "      <td>1.000000</td>\n",
       "      <td>1.000000</td>\n",
       "      <td>...</td>\n",
       "      <td>180.000000</td>\n",
       "      <td>38.900000</td>\n",
       "      <td>18.000000</td>\n",
       "      <td>82.000000</td>\n",
       "      <td>5.000000</td>\n",
       "      <td>12.00000</td>\n",
       "      <td>30.000000</td>\n",
       "      <td>48.000000</td>\n",
       "      <td>47.000000</td>\n",
       "      <td>0.979167</td>\n",
       "    </tr>\n",
       "  </tbody>\n",
       "</table>\n",
       "<p>8 rows × 31 columns</p>\n",
       "</div>"
      ],
      "text/plain": [
       "            Sl No  Patient File No        pcos         age    pregnant  \\\n",
       "count  541.000000       541.000000  541.000000  541.000000  541.000000   \n",
       "mean   271.000000     10271.000000    0.327172   31.430684    0.380776   \n",
       "std    156.317519       156.317519    0.469615    5.411006    0.486027   \n",
       "min      1.000000     10001.000000    0.000000   20.000000    0.000000   \n",
       "25%    136.000000     10136.000000    0.000000   28.000000    0.000000   \n",
       "50%    271.000000     10271.000000    0.000000   31.000000    0.000000   \n",
       "75%    406.000000     10406.000000    1.000000   35.000000    1.000000   \n",
       "max    541.000000     10541.000000    1.000000   48.000000    1.000000   \n",
       "\n",
       "       aborptions     Bloated  facial_hair  chest_hair     obesity  ...  \\\n",
       "count  541.000000  541.000000   541.000000  541.000000  541.000000  ...   \n",
       "mean     0.288355    0.369686     0.321627    0.240296    0.380776  ...   \n",
       "std      0.692575    0.483166     0.467533    0.427658    0.486027  ...   \n",
       "min      0.000000    0.000000     0.000000    0.000000    0.000000  ...   \n",
       "25%      0.000000    0.000000     0.000000    0.000000    0.000000  ...   \n",
       "50%      0.000000    0.000000     0.000000    0.000000    0.000000  ...   \n",
       "75%      0.000000    1.000000     1.000000    0.000000    1.000000  ...   \n",
       "max      5.000000    1.000000     1.000000    1.000000    1.000000  ...   \n",
       "\n",
       "           Height         BMI  Blood_Group  Pulse_rate  Cycle_months  \\\n",
       "count  541.000000  541.000000   541.000000  541.000000    541.000000   \n",
       "mean   156.484835   24.311285    13.802218   73.247689      1.720887   \n",
       "std      6.033545    4.056399     1.840812    4.430285      1.135989   \n",
       "min    137.000000   12.417882    11.000000   13.000000      1.000000   \n",
       "25%    152.000000   21.641274    13.000000   72.000000      1.000000   \n",
       "50%    156.000000   24.238227    14.000000   72.000000      1.000000   \n",
       "75%    160.000000   26.634958    15.000000   74.000000      2.000000   \n",
       "max    180.000000   38.900000    18.000000   82.000000      5.000000   \n",
       "\n",
       "       Cycle_length  Marriage_Status         Hip       Waist     whratio  \n",
       "count     541.00000       541.000000  541.000000  541.000000  541.000000  \n",
       "mean        4.94085         7.666728   37.992606   33.841035    0.891895  \n",
       "std         1.49202         4.810733    3.967920    3.596894    0.046326  \n",
       "min         0.00000         0.000000   26.000000   24.000000    0.755556  \n",
       "25%         4.00000         4.000000   36.000000   32.000000    0.857143  \n",
       "50%         5.00000         7.000000   38.000000   34.000000    0.894737  \n",
       "75%         5.00000        10.000000   40.000000   36.000000    0.928571  \n",
       "max        12.00000        30.000000   48.000000   47.000000    0.979167  \n",
       "\n",
       "[8 rows x 31 columns]"
      ]
     },
     "execution_count": 4,
     "metadata": {},
     "output_type": "execute_result"
    }
   ],
   "source": [
    "features.describe()# Descriptive statistics for each column\n"
   ]
  },
  {
   "cell_type": "code",
   "execution_count": 5,
   "metadata": {
    "colab": {
     "base_uri": "https://localhost:8080/"
    },
    "id": "ZM-BTGN1PckJ",
    "outputId": "03986d28-fe58-4a75-ae76-5b8bcf019609"
   },
   "outputs": [
    {
     "name": "stdout",
     "output_type": "stream",
     "text": [
      "<class 'pandas.core.frame.DataFrame'>\n",
      "RangeIndex: 541 entries, 0 to 540\n",
      "Data columns (total 31 columns):\n",
      " #   Column           Non-Null Count  Dtype  \n",
      "---  ------           --------------  -----  \n",
      " 0   Sl No            541 non-null    int64  \n",
      " 1   Patient File No  541 non-null    int64  \n",
      " 2   pcos             541 non-null    int64  \n",
      " 3   age              541 non-null    int64  \n",
      " 4   pregnant         541 non-null    int64  \n",
      " 5   aborptions       541 non-null    int64  \n",
      " 6   Bloated          541 non-null    int64  \n",
      " 7   facial_hair      541 non-null    int64  \n",
      " 8   chest_hair       541 non-null    int64  \n",
      " 9   obesity          541 non-null    int64  \n",
      " 10  mood_swings      541 non-null    int64  \n",
      " 11  stress           541 non-null    int64  \n",
      " 12  Irregular_sleep  541 non-null    int64  \n",
      " 13  Weight_gain      541 non-null    int64  \n",
      " 14  hair_growth      541 non-null    int64  \n",
      " 15  Skin_darkening   541 non-null    int64  \n",
      " 16  Hair_loss        541 non-null    int64  \n",
      " 17  Pimples          541 non-null    int64  \n",
      " 18  Fast_food        541 non-null    int64  \n",
      " 19  Reg_Exercise     541 non-null    int64  \n",
      " 20  Weight           541 non-null    float64\n",
      " 21  Height           541 non-null    float64\n",
      " 22  BMI              541 non-null    float64\n",
      " 23  Blood_Group      541 non-null    int64  \n",
      " 24  Pulse_rate       541 non-null    int64  \n",
      " 25  Cycle_months     541 non-null    int64  \n",
      " 26  Cycle_length     541 non-null    int64  \n",
      " 27  Marriage_Status  541 non-null    float64\n",
      " 28  Hip              541 non-null    int64  \n",
      " 29  Waist            541 non-null    int64  \n",
      " 30  whratio          541 non-null    float64\n",
      "dtypes: float64(5), int64(26)\n",
      "memory usage: 131.1 KB\n"
     ]
    }
   ],
   "source": [
    "features.info()"
   ]
  },
  {
   "cell_type": "code",
   "execution_count": 6,
   "metadata": {
    "colab": {
     "base_uri": "https://localhost:8080/",
     "height": 957
    },
    "id": "7c5As8KPPwUG",
    "outputId": "cc05a890-60d7-4982-f2fb-40b0ac3962c7"
   },
   "outputs": [
    {
     "data": {
      "text/html": [
       "<div>\n",
       "<style scoped>\n",
       "    .dataframe tbody tr th:only-of-type {\n",
       "        vertical-align: middle;\n",
       "    }\n",
       "\n",
       "    .dataframe tbody tr th {\n",
       "        vertical-align: top;\n",
       "    }\n",
       "\n",
       "    .dataframe thead th {\n",
       "        text-align: right;\n",
       "    }\n",
       "</style>\n",
       "<table border=\"1\" class=\"dataframe\">\n",
       "  <thead>\n",
       "    <tr style=\"text-align: right;\">\n",
       "      <th></th>\n",
       "    </tr>\n",
       "  </thead>\n",
       "  <tbody>\n",
       "    <tr>\n",
       "      <th>Sl No</th>\n",
       "    </tr>\n",
       "    <tr>\n",
       "      <th>Patient File No</th>\n",
       "    </tr>\n",
       "    <tr>\n",
       "      <th>pcos</th>\n",
       "    </tr>\n",
       "    <tr>\n",
       "      <th>age</th>\n",
       "    </tr>\n",
       "    <tr>\n",
       "      <th>pregnant</th>\n",
       "    </tr>\n",
       "    <tr>\n",
       "      <th>aborptions</th>\n",
       "    </tr>\n",
       "    <tr>\n",
       "      <th>Bloated</th>\n",
       "    </tr>\n",
       "    <tr>\n",
       "      <th>facial_hair</th>\n",
       "    </tr>\n",
       "    <tr>\n",
       "      <th>chest_hair</th>\n",
       "    </tr>\n",
       "    <tr>\n",
       "      <th>obesity</th>\n",
       "    </tr>\n",
       "    <tr>\n",
       "      <th>mood_swings</th>\n",
       "    </tr>\n",
       "    <tr>\n",
       "      <th>stress</th>\n",
       "    </tr>\n",
       "    <tr>\n",
       "      <th>Irregular_sleep</th>\n",
       "    </tr>\n",
       "    <tr>\n",
       "      <th>Weight_gain</th>\n",
       "    </tr>\n",
       "    <tr>\n",
       "      <th>hair_growth</th>\n",
       "    </tr>\n",
       "    <tr>\n",
       "      <th>Skin_darkening</th>\n",
       "    </tr>\n",
       "    <tr>\n",
       "      <th>Hair_loss</th>\n",
       "    </tr>\n",
       "    <tr>\n",
       "      <th>Pimples</th>\n",
       "    </tr>\n",
       "    <tr>\n",
       "      <th>Fast_food</th>\n",
       "    </tr>\n",
       "    <tr>\n",
       "      <th>Reg_Exercise</th>\n",
       "    </tr>\n",
       "    <tr>\n",
       "      <th>Weight</th>\n",
       "    </tr>\n",
       "    <tr>\n",
       "      <th>Height</th>\n",
       "    </tr>\n",
       "    <tr>\n",
       "      <th>BMI</th>\n",
       "    </tr>\n",
       "    <tr>\n",
       "      <th>Blood_Group</th>\n",
       "    </tr>\n",
       "    <tr>\n",
       "      <th>Pulse_rate</th>\n",
       "    </tr>\n",
       "    <tr>\n",
       "      <th>Cycle_months</th>\n",
       "    </tr>\n",
       "    <tr>\n",
       "      <th>Cycle_length</th>\n",
       "    </tr>\n",
       "    <tr>\n",
       "      <th>Marriage_Status</th>\n",
       "    </tr>\n",
       "    <tr>\n",
       "      <th>Hip</th>\n",
       "    </tr>\n",
       "    <tr>\n",
       "      <th>Waist</th>\n",
       "    </tr>\n",
       "    <tr>\n",
       "      <th>whratio</th>\n",
       "    </tr>\n",
       "  </tbody>\n",
       "</table>\n",
       "</div>"
      ],
      "text/plain": [
       "Empty DataFrame\n",
       "Columns: []\n",
       "Index: [Sl No, Patient File No, pcos, age, pregnant, aborptions, Bloated, facial_hair, chest_hair, obesity, mood_swings, stress, Irregular_sleep, Weight_gain, hair_growth, Skin_darkening, Hair_loss, Pimples, Fast_food, Reg_Exercise, Weight, Height, BMI, Blood_Group, Pulse_rate, Cycle_months, Cycle_length, Marriage_Status, Hip, Waist, whratio]"
      ]
     },
     "execution_count": 6,
     "metadata": {},
     "output_type": "execute_result"
    }
   ],
   "source": [
    "features[features['Marriage_Status'].isnull()].T"
   ]
  },
  {
   "cell_type": "code",
   "execution_count": 7,
   "metadata": {
    "id": "np8fOR-mQAAi"
   },
   "outputs": [],
   "source": [
    "features['Marriage_Status'].fillna(features['Marriage_Status'].median(),inplace=True)"
   ]
  },
  {
   "cell_type": "code",
   "execution_count": 8,
   "metadata": {
    "id": "hCGmlPIyQLin"
   },
   "outputs": [],
   "source": [
    "features['Fast_food'].fillna(features['Fast_food'].median(),inplace=True)"
   ]
  },
  {
   "cell_type": "code",
   "execution_count": 9,
   "metadata": {
    "colab": {
     "base_uri": "https://localhost:8080/",
     "height": 234
    },
    "id": "9CrMCwGmQWTg",
    "outputId": "3c32250e-c5d1-4eab-fd7d-ac4116860cc1"
   },
   "outputs": [
    {
     "data": {
      "text/html": [
       "<div>\n",
       "<style scoped>\n",
       "    .dataframe tbody tr th:only-of-type {\n",
       "        vertical-align: middle;\n",
       "    }\n",
       "\n",
       "    .dataframe tbody tr th {\n",
       "        vertical-align: top;\n",
       "    }\n",
       "\n",
       "    .dataframe thead th {\n",
       "        text-align: right;\n",
       "    }\n",
       "</style>\n",
       "<table border=\"1\" class=\"dataframe\">\n",
       "  <thead>\n",
       "    <tr style=\"text-align: right;\">\n",
       "      <th></th>\n",
       "      <th>Sl No</th>\n",
       "      <th>Patient File No</th>\n",
       "      <th>pcos</th>\n",
       "      <th>age</th>\n",
       "      <th>pregnant</th>\n",
       "      <th>aborptions</th>\n",
       "      <th>Bloated</th>\n",
       "      <th>facial_hair</th>\n",
       "      <th>chest_hair</th>\n",
       "      <th>obesity</th>\n",
       "      <th>...</th>\n",
       "      <th>Height</th>\n",
       "      <th>BMI</th>\n",
       "      <th>Blood_Group</th>\n",
       "      <th>Pulse_rate</th>\n",
       "      <th>Cycle_months</th>\n",
       "      <th>Cycle_length</th>\n",
       "      <th>Marriage_Status</th>\n",
       "      <th>Hip</th>\n",
       "      <th>Waist</th>\n",
       "      <th>whratio</th>\n",
       "    </tr>\n",
       "  </thead>\n",
       "  <tbody>\n",
       "    <tr>\n",
       "      <th>0</th>\n",
       "      <td>1</td>\n",
       "      <td>10001</td>\n",
       "      <td>0</td>\n",
       "      <td>28</td>\n",
       "      <td>0</td>\n",
       "      <td>0</td>\n",
       "      <td>0</td>\n",
       "      <td>0</td>\n",
       "      <td>0</td>\n",
       "      <td>0</td>\n",
       "      <td>...</td>\n",
       "      <td>152.0</td>\n",
       "      <td>19.300000</td>\n",
       "      <td>15</td>\n",
       "      <td>78</td>\n",
       "      <td>1</td>\n",
       "      <td>5</td>\n",
       "      <td>7.0</td>\n",
       "      <td>36</td>\n",
       "      <td>30</td>\n",
       "      <td>0.833333</td>\n",
       "    </tr>\n",
       "    <tr>\n",
       "      <th>1</th>\n",
       "      <td>2</td>\n",
       "      <td>10002</td>\n",
       "      <td>0</td>\n",
       "      <td>36</td>\n",
       "      <td>1</td>\n",
       "      <td>0</td>\n",
       "      <td>0</td>\n",
       "      <td>0</td>\n",
       "      <td>0</td>\n",
       "      <td>0</td>\n",
       "      <td>...</td>\n",
       "      <td>161.5</td>\n",
       "      <td>24.921163</td>\n",
       "      <td>15</td>\n",
       "      <td>74</td>\n",
       "      <td>1</td>\n",
       "      <td>5</td>\n",
       "      <td>11.0</td>\n",
       "      <td>38</td>\n",
       "      <td>32</td>\n",
       "      <td>0.842105</td>\n",
       "    </tr>\n",
       "    <tr>\n",
       "      <th>2</th>\n",
       "      <td>3</td>\n",
       "      <td>10003</td>\n",
       "      <td>1</td>\n",
       "      <td>33</td>\n",
       "      <td>1</td>\n",
       "      <td>0</td>\n",
       "      <td>1</td>\n",
       "      <td>1</td>\n",
       "      <td>1</td>\n",
       "      <td>1</td>\n",
       "      <td>...</td>\n",
       "      <td>165.0</td>\n",
       "      <td>25.270891</td>\n",
       "      <td>11</td>\n",
       "      <td>72</td>\n",
       "      <td>2</td>\n",
       "      <td>5</td>\n",
       "      <td>10.0</td>\n",
       "      <td>40</td>\n",
       "      <td>36</td>\n",
       "      <td>0.900000</td>\n",
       "    </tr>\n",
       "    <tr>\n",
       "      <th>3</th>\n",
       "      <td>4</td>\n",
       "      <td>10004</td>\n",
       "      <td>0</td>\n",
       "      <td>37</td>\n",
       "      <td>0</td>\n",
       "      <td>0</td>\n",
       "      <td>0</td>\n",
       "      <td>0</td>\n",
       "      <td>0</td>\n",
       "      <td>0</td>\n",
       "      <td>...</td>\n",
       "      <td>148.0</td>\n",
       "      <td>29.674945</td>\n",
       "      <td>13</td>\n",
       "      <td>72</td>\n",
       "      <td>1</td>\n",
       "      <td>5</td>\n",
       "      <td>4.0</td>\n",
       "      <td>42</td>\n",
       "      <td>36</td>\n",
       "      <td>0.857143</td>\n",
       "    </tr>\n",
       "    <tr>\n",
       "      <th>4</th>\n",
       "      <td>5</td>\n",
       "      <td>10005</td>\n",
       "      <td>0</td>\n",
       "      <td>25</td>\n",
       "      <td>1</td>\n",
       "      <td>0</td>\n",
       "      <td>0</td>\n",
       "      <td>0</td>\n",
       "      <td>0</td>\n",
       "      <td>0</td>\n",
       "      <td>...</td>\n",
       "      <td>161.0</td>\n",
       "      <td>20.060954</td>\n",
       "      <td>11</td>\n",
       "      <td>72</td>\n",
       "      <td>1</td>\n",
       "      <td>5</td>\n",
       "      <td>1.0</td>\n",
       "      <td>37</td>\n",
       "      <td>30</td>\n",
       "      <td>0.810811</td>\n",
       "    </tr>\n",
       "  </tbody>\n",
       "</table>\n",
       "<p>5 rows × 31 columns</p>\n",
       "</div>"
      ],
      "text/plain": [
       "   Sl No  Patient File No  pcos  age  pregnant  aborptions  Bloated  \\\n",
       "0      1            10001     0   28         0           0        0   \n",
       "1      2            10002     0   36         1           0        0   \n",
       "2      3            10003     1   33         1           0        1   \n",
       "3      4            10004     0   37         0           0        0   \n",
       "4      5            10005     0   25         1           0        0   \n",
       "\n",
       "   facial_hair  chest_hair  obesity  ...  Height        BMI  Blood_Group  \\\n",
       "0            0           0        0  ...   152.0  19.300000           15   \n",
       "1            0           0        0  ...   161.5  24.921163           15   \n",
       "2            1           1        1  ...   165.0  25.270891           11   \n",
       "3            0           0        0  ...   148.0  29.674945           13   \n",
       "4            0           0        0  ...   161.0  20.060954           11   \n",
       "\n",
       "   Pulse_rate  Cycle_months  Cycle_length  Marriage_Status  Hip  Waist  \\\n",
       "0          78             1             5              7.0   36     30   \n",
       "1          74             1             5             11.0   38     32   \n",
       "2          72             2             5             10.0   40     36   \n",
       "3          72             1             5              4.0   42     36   \n",
       "4          72             1             5              1.0   37     30   \n",
       "\n",
       "    whratio  \n",
       "0  0.833333  \n",
       "1  0.842105  \n",
       "2  0.900000  \n",
       "3  0.857143  \n",
       "4  0.810811  \n",
       "\n",
       "[5 rows x 31 columns]"
      ]
     },
     "execution_count": 9,
     "metadata": {},
     "output_type": "execute_result"
    }
   ],
   "source": [
    "features.head()"
   ]
  },
  {
   "cell_type": "code",
   "execution_count": 10,
   "metadata": {
    "id": "qYO5DQubQa76"
   },
   "outputs": [],
   "source": [
    "features.drop(['Sl No', 'Patient File No'],axis=1,inplace=True)"
   ]
  },
  {
   "cell_type": "code",
   "execution_count": 11,
   "metadata": {
    "colab": {
     "base_uri": "https://localhost:8080/",
     "height": 217
    },
    "id": "PDnE_lJ9QkGm",
    "outputId": "6156b328-1b65-40bf-8194-e75e9e830bde"
   },
   "outputs": [
    {
     "data": {
      "text/html": [
       "<div>\n",
       "<style scoped>\n",
       "    .dataframe tbody tr th:only-of-type {\n",
       "        vertical-align: middle;\n",
       "    }\n",
       "\n",
       "    .dataframe tbody tr th {\n",
       "        vertical-align: top;\n",
       "    }\n",
       "\n",
       "    .dataframe thead th {\n",
       "        text-align: right;\n",
       "    }\n",
       "</style>\n",
       "<table border=\"1\" class=\"dataframe\">\n",
       "  <thead>\n",
       "    <tr style=\"text-align: right;\">\n",
       "      <th></th>\n",
       "      <th>pcos</th>\n",
       "      <th>age</th>\n",
       "      <th>pregnant</th>\n",
       "      <th>aborptions</th>\n",
       "      <th>Bloated</th>\n",
       "      <th>facial_hair</th>\n",
       "      <th>chest_hair</th>\n",
       "      <th>obesity</th>\n",
       "      <th>mood_swings</th>\n",
       "      <th>stress</th>\n",
       "      <th>...</th>\n",
       "      <th>Height</th>\n",
       "      <th>BMI</th>\n",
       "      <th>Blood_Group</th>\n",
       "      <th>Pulse_rate</th>\n",
       "      <th>Cycle_months</th>\n",
       "      <th>Cycle_length</th>\n",
       "      <th>Marriage_Status</th>\n",
       "      <th>Hip</th>\n",
       "      <th>Waist</th>\n",
       "      <th>whratio</th>\n",
       "    </tr>\n",
       "  </thead>\n",
       "  <tbody>\n",
       "    <tr>\n",
       "      <th>0</th>\n",
       "      <td>0</td>\n",
       "      <td>28</td>\n",
       "      <td>0</td>\n",
       "      <td>0</td>\n",
       "      <td>0</td>\n",
       "      <td>0</td>\n",
       "      <td>0</td>\n",
       "      <td>0</td>\n",
       "      <td>0</td>\n",
       "      <td>1</td>\n",
       "      <td>...</td>\n",
       "      <td>152.0</td>\n",
       "      <td>19.300000</td>\n",
       "      <td>15</td>\n",
       "      <td>78</td>\n",
       "      <td>1</td>\n",
       "      <td>5</td>\n",
       "      <td>7.0</td>\n",
       "      <td>36</td>\n",
       "      <td>30</td>\n",
       "      <td>0.833333</td>\n",
       "    </tr>\n",
       "    <tr>\n",
       "      <th>1</th>\n",
       "      <td>0</td>\n",
       "      <td>36</td>\n",
       "      <td>1</td>\n",
       "      <td>0</td>\n",
       "      <td>0</td>\n",
       "      <td>0</td>\n",
       "      <td>0</td>\n",
       "      <td>0</td>\n",
       "      <td>0</td>\n",
       "      <td>1</td>\n",
       "      <td>...</td>\n",
       "      <td>161.5</td>\n",
       "      <td>24.921163</td>\n",
       "      <td>15</td>\n",
       "      <td>74</td>\n",
       "      <td>1</td>\n",
       "      <td>5</td>\n",
       "      <td>11.0</td>\n",
       "      <td>38</td>\n",
       "      <td>32</td>\n",
       "      <td>0.842105</td>\n",
       "    </tr>\n",
       "    <tr>\n",
       "      <th>2</th>\n",
       "      <td>1</td>\n",
       "      <td>33</td>\n",
       "      <td>1</td>\n",
       "      <td>0</td>\n",
       "      <td>1</td>\n",
       "      <td>1</td>\n",
       "      <td>1</td>\n",
       "      <td>1</td>\n",
       "      <td>1</td>\n",
       "      <td>1</td>\n",
       "      <td>...</td>\n",
       "      <td>165.0</td>\n",
       "      <td>25.270891</td>\n",
       "      <td>11</td>\n",
       "      <td>72</td>\n",
       "      <td>2</td>\n",
       "      <td>5</td>\n",
       "      <td>10.0</td>\n",
       "      <td>40</td>\n",
       "      <td>36</td>\n",
       "      <td>0.900000</td>\n",
       "    </tr>\n",
       "    <tr>\n",
       "      <th>3</th>\n",
       "      <td>0</td>\n",
       "      <td>37</td>\n",
       "      <td>0</td>\n",
       "      <td>0</td>\n",
       "      <td>0</td>\n",
       "      <td>0</td>\n",
       "      <td>0</td>\n",
       "      <td>0</td>\n",
       "      <td>0</td>\n",
       "      <td>1</td>\n",
       "      <td>...</td>\n",
       "      <td>148.0</td>\n",
       "      <td>29.674945</td>\n",
       "      <td>13</td>\n",
       "      <td>72</td>\n",
       "      <td>1</td>\n",
       "      <td>5</td>\n",
       "      <td>4.0</td>\n",
       "      <td>42</td>\n",
       "      <td>36</td>\n",
       "      <td>0.857143</td>\n",
       "    </tr>\n",
       "    <tr>\n",
       "      <th>4</th>\n",
       "      <td>0</td>\n",
       "      <td>25</td>\n",
       "      <td>1</td>\n",
       "      <td>0</td>\n",
       "      <td>0</td>\n",
       "      <td>0</td>\n",
       "      <td>0</td>\n",
       "      <td>0</td>\n",
       "      <td>0</td>\n",
       "      <td>1</td>\n",
       "      <td>...</td>\n",
       "      <td>161.0</td>\n",
       "      <td>20.060954</td>\n",
       "      <td>11</td>\n",
       "      <td>72</td>\n",
       "      <td>1</td>\n",
       "      <td>5</td>\n",
       "      <td>1.0</td>\n",
       "      <td>37</td>\n",
       "      <td>30</td>\n",
       "      <td>0.810811</td>\n",
       "    </tr>\n",
       "  </tbody>\n",
       "</table>\n",
       "<p>5 rows × 29 columns</p>\n",
       "</div>"
      ],
      "text/plain": [
       "   pcos  age  pregnant  aborptions  Bloated  facial_hair  chest_hair  obesity  \\\n",
       "0     0   28         0           0        0            0           0        0   \n",
       "1     0   36         1           0        0            0           0        0   \n",
       "2     1   33         1           0        1            1           1        1   \n",
       "3     0   37         0           0        0            0           0        0   \n",
       "4     0   25         1           0        0            0           0        0   \n",
       "\n",
       "   mood_swings  stress  ...  Height        BMI  Blood_Group  Pulse_rate  \\\n",
       "0            0       1  ...   152.0  19.300000           15          78   \n",
       "1            0       1  ...   161.5  24.921163           15          74   \n",
       "2            1       1  ...   165.0  25.270891           11          72   \n",
       "3            0       1  ...   148.0  29.674945           13          72   \n",
       "4            0       1  ...   161.0  20.060954           11          72   \n",
       "\n",
       "   Cycle_months  Cycle_length  Marriage_Status  Hip  Waist   whratio  \n",
       "0             1             5              7.0   36     30  0.833333  \n",
       "1             1             5             11.0   38     32  0.842105  \n",
       "2             2             5             10.0   40     36  0.900000  \n",
       "3             1             5              4.0   42     36  0.857143  \n",
       "4             1             5              1.0   37     30  0.810811  \n",
       "\n",
       "[5 rows x 29 columns]"
      ]
     },
     "execution_count": 11,
     "metadata": {},
     "output_type": "execute_result"
    }
   ],
   "source": [
    "features.head()"
   ]
  },
  {
   "cell_type": "code",
   "execution_count": 12,
   "metadata": {
    "id": "2qDt9cAVQ3DS"
   },
   "outputs": [],
   "source": [
    "# Use numpy to convert to arrays\n",
    "import numpy as np\n",
    "# Labels are the values we want to predict\n",
    "labels = np.array(features['pcos'])\n",
    "# Remove the labels from the features\n",
    "# axis 1 refers to the columns\n",
    "features= features.drop('pcos', axis = 1)\n"
   ]
  },
  {
   "cell_type": "code",
   "execution_count": 13,
   "metadata": {
    "id": "28d2ghXYTYna"
   },
   "outputs": [],
   "source": [
    "# Saving feature names for later use\n",
    "feature_list = list(features.columns)\n",
    "# Convert to numpy array\n",
    "features = np.array(features)\n"
   ]
  },
  {
   "cell_type": "code",
   "execution_count": 14,
   "metadata": {
    "id": "zWdqYW6CUJLb"
   },
   "outputs": [],
   "source": [
    "# Using Skicit-learn to split data into training and testing sets\n",
    "from sklearn.model_selection import train_test_split"
   ]
  },
  {
   "cell_type": "code",
   "execution_count": 15,
   "metadata": {
    "id": "ZhXvly1wUbB0"
   },
   "outputs": [],
   "source": [
    "# Split the data into training and testing sets\n",
    "train_features, test_features, train_labels, test_labels = train_test_split(features, labels, test_size = 0.25, random_state = 42)\n"
   ]
  },
  {
   "cell_type": "code",
   "execution_count": 16,
   "metadata": {
    "colab": {
     "base_uri": "https://localhost:8080/"
    },
    "id": "KQe5EN8yUclk",
    "outputId": "4c9bf7af-a33d-4413-ab1b-5d53c6facea5"
   },
   "outputs": [
    {
     "name": "stdout",
     "output_type": "stream",
     "text": [
      "Training Features Shape: (405, 28)\n",
      "Training Labels Shape: (405,)\n",
      "Testing Features Shape: (136, 28)\n",
      "Testing Labels Shape: (136,)\n"
     ]
    }
   ],
   "source": [
    "print('Training Features Shape:', train_features.shape)\n",
    "print('Training Labels Shape:', train_labels.shape)\n",
    "print('Testing Features Shape:', test_features.shape)\n",
    "print('Testing Labels Shape:', test_labels.shape)"
   ]
  },
  {
   "cell_type": "code",
   "execution_count": 17,
   "metadata": {
    "id": "iG7qJhgMbEyX"
   },
   "outputs": [],
   "source": [
    "# Import the model we are using\n",
    "from sklearn.ensemble import RandomForestRegressor"
   ]
  },
  {
   "cell_type": "code",
   "execution_count": 18,
   "metadata": {
    "id": "UV9_g0N9bH3V"
   },
   "outputs": [],
   "source": [
    "# Instantiate model with 1000 decision trees\n",
    "rf = RandomForestRegressor(n_estimators = 1000, random_state = 42)"
   ]
  },
  {
   "cell_type": "code",
   "execution_count": 19,
   "metadata": {
    "id": "2R7xwfAJbMiG"
   },
   "outputs": [],
   "source": [
    "# Train the model on training data\n",
    "rf.fit(train_features, train_labels);"
   ]
  },
  {
   "cell_type": "code",
   "execution_count": 20,
   "metadata": {
    "id": "M1c7fqBmbP68"
   },
   "outputs": [],
   "source": [
    "# Use the forest's predict method on the test data\n",
    "predictions = rf.predict(test_features)"
   ]
  },
  {
   "cell_type": "code",
   "execution_count": 21,
   "metadata": {
    "id": "C8BTplYVbSLM"
   },
   "outputs": [],
   "source": [
    "# Calculate the absolute errors\n",
    "errors = abs(predictions - test_labels)"
   ]
  },
  {
   "cell_type": "code",
   "execution_count": 22,
   "metadata": {
    "colab": {
     "base_uri": "https://localhost:8080/"
    },
    "id": "S4YcMC-ZbTzr",
    "outputId": "fb9de856-c711-40ef-f4ad-61ca097e10ab"
   },
   "outputs": [
    {
     "name": "stdout",
     "output_type": "stream",
     "text": [
      "Mean Absolute Error: 0.0 degrees.\n"
     ]
    }
   ],
   "source": [
    "# Print out the mean absolute error (mae)\n",
    "print('Mean Absolute Error:', round(np.mean(errors), 2), 'degrees.')"
   ]
  },
  {
   "cell_type": "code",
   "execution_count": 23,
   "metadata": {
    "id": "R5kMe-4BbVn9"
   },
   "outputs": [],
   "source": [
    "from sklearn.metrics import roc_auc_score\n",
    "from sklearn.ensemble import RandomForestClassifier\n",
    "def print_scores(m):\n",
    "    res = [roc_auc_score(train_labels,m.predict_proba(train_features)[:,1])]\n",
    "    for r in res:\n",
    "        print(r)"
   ]
  },
  {
   "cell_type": "code",
   "execution_count": 24,
   "metadata": {
    "colab": {
     "base_uri": "https://localhost:8080/"
    },
    "id": "8bvYr5_fbXdF",
    "outputId": "0718b991-08b7-40a4-d9af-a8b39444f05d"
   },
   "outputs": [
    {
     "name": "stdout",
     "output_type": "stream",
     "text": [
      "1.0\n"
     ]
    }
   ],
   "source": [
    "rf = RandomForestClassifier(n_jobs=-1,n_estimators=150,max_features='sqrt',min_samples_leaf=10)\n",
    "rf.fit(train_features,train_labels)\n",
    "print_scores(rf)"
   ]
  },
  {
   "cell_type": "code",
   "execution_count": 33,
   "metadata": {
    "id": "OplY4uj4bZlZ"
   },
   "outputs": [],
   "source": [
    "# Import tools needed for visualization\n",
    "from sklearn.tree import export_graphviz\n",
    "import pydot"
   ]
  },
  {
   "cell_type": "code",
   "execution_count": 34,
   "metadata": {
    "id": "bv3nuKMnbey5"
   },
   "outputs": [],
   "source": [
    "# Pull out one tree from the forest\n",
    "tree = rf.estimators_[5]"
   ]
  },
  {
   "cell_type": "code",
   "execution_count": 36,
   "metadata": {
    "id": "YD0rxMWEbg9h"
   },
   "outputs": [],
   "source": [
    "# Export the image to a dot file\n",
    "export_graphviz(tree, out_file = 'tree.dot', feature_names = feature_list, rounded = True, precision = 1)"
   ]
  },
  {
   "cell_type": "code",
   "execution_count": 37,
   "metadata": {
    "id": "TgeO_Riybi2G"
   },
   "outputs": [],
   "source": [
    "# Use dot file to create a graph\n",
    "(graph, ) = pydot.graph_from_dot_file('tree.dot')"
   ]
  },
  {
   "cell_type": "code",
   "execution_count": 38,
   "metadata": {
    "id": "PoKLo5UYbtZ9"
   },
   "outputs": [],
   "source": [
    "# Write graph to a png file\n",
    "graph.write_png('tree.png')"
   ]
  },
  {
   "cell_type": "code",
   "execution_count": 39,
   "metadata": {
    "id": "k4Z-Z_a9bu51"
   },
   "outputs": [],
   "source": [
    "# Limit depth of tree to 3 levels\n",
    "rf_small = RandomForestRegressor(n_estimators=10, max_depth = 3)\n",
    "rf_small.fit(train_features, train_labels)\n",
    "# Extract the small tree\n",
    "tree_small = rf_small.estimators_[5]\n",
    "# Save the tree as a png image\n",
    "export_graphviz(tree_small, out_file = 'small_tree.dot', feature_names = feature_list, rounded = True, precision = 1)\n",
    "(graph, ) = pydot.graph_from_dot_file('small_tree.dot')\n",
    "graph.write_png('small_tree.png');"
   ]
  },
  {
   "cell_type": "code",
   "execution_count": 40,
   "metadata": {
    "colab": {
     "base_uri": "https://localhost:8080/",
     "height": 236
    },
    "id": "4EBccXkbbwx0",
    "outputId": "1b9519a1-2c70-44c3-8be5-3ccc08a900bb"
   },
   "outputs": [
    {
     "data": {
      "image/png": "[encoded data removed]",
      "text/plain": [
       "<IPython.core.display.Image object>"
      ]
     },
     "execution_count": 40,
     "metadata": {
      "tags": []
     },
     "output_type": "execute_result"
    }
   ],
   "source": [
    "from IPython.display import Image\n",
    "Image('small_tree.png')"
   ]
  },
  {
   "cell_type": "code",
   "execution_count": 41,
   "metadata": {
    "colab": {
     "base_uri": "https://localhost:8080/",
     "height": 514
    },
    "id": "R0wjbIRWb0AX",
    "outputId": "388e013f-6b7b-46de-974e-20e38ec76e06"
   },
   "outputs": [
    {
     "data": {
      "image/png": "[encoded data removed]",
      "text/plain": [
       "<IPython.core.display.Image object>"
      ]
     },
     "execution_count": 41,
     "metadata": {
      "tags": []
     },
     "output_type": "execute_result"
    }
   ],
   "source": [
    "from IPython.display import Image\n",
    "Image('tree.png')"
   ]
  },
  {
   "cell_type": "code",
   "execution_count": 42,
   "metadata": {
    "colab": {
     "base_uri": "https://localhost:8080/"
    },
    "id": "V9SPzqpJb6H7",
    "outputId": "de8a1e43-9d64-4f7a-b463-44fb5c3ad61b"
   },
   "outputs": [
    {
     "name": "stdout",
     "output_type": "stream",
     "text": [
      "Variable: mood_swings          Importance: 0.28\n",
      "Variable: Cycle_months         Importance: 0.21\n",
      "Variable: Irregular_sleep      Importance: 0.14\n",
      "Variable: Bloated              Importance: 0.1\n",
      "Variable: obesity              Importance: 0.09\n",
      "Variable: chest_hair           Importance: 0.07\n",
      "Variable: facial_hair          Importance: 0.04\n",
      "Variable: Weight_gain          Importance: 0.01\n",
      "Variable: hair_growth          Importance: 0.01\n",
      "Variable: Skin_darkening       Importance: 0.01\n",
      "Variable: Fast_food            Importance: 0.01\n",
      "Variable: age                  Importance: 0.0\n",
      "Variable: pregnant             Importance: 0.0\n",
      "Variable: aborptions           Importance: 0.0\n",
      "Variable: stress               Importance: 0.0\n",
      "Variable: Hair_loss            Importance: 0.0\n",
      "Variable: Pimples              Importance: 0.0\n",
      "Variable: Reg_Exercise         Importance: 0.0\n",
      "Variable: Weight               Importance: 0.0\n",
      "Variable: Height               Importance: 0.0\n",
      "Variable: BMI                  Importance: 0.0\n",
      "Variable: Blood_Group          Importance: 0.0\n",
      "Variable: Pulse_rate           Importance: 0.0\n",
      "Variable: Cycle_length         Importance: 0.0\n",
      "Variable: Marriage_Status      Importance: 0.0\n",
      "Variable: Hip                  Importance: 0.0\n",
      "Variable: Waist                Importance: 0.0\n",
      "Variable: whratio              Importance: 0.0\n"
     ]
    }
   ],
   "source": [
    "# Get numerical feature importances\n",
    "importances = list(rf.feature_importances_)\n",
    "# List of tuples with variable and importance\n",
    "feature_importances = [(feature, round(importance, 2)) for feature, importance in zip(feature_list, importances)]\n",
    "# Sort the feature importances by most important first\n",
    "feature_importances = sorted(feature_importances, key = lambda x: x[1], reverse = True)\n",
    "# Print out the feature and importances \n",
    "[print('Variable: {:20} Importance: {}'.format(*pair)) for pair in feature_importances];"
   ]
  },
  {
   "cell_type": "code",
   "execution_count": 43,
   "metadata": {
    "colab": {
     "base_uri": "https://localhost:8080/",
     "height": 424
    },
    "id": "90u5pC08cAQQ",
    "outputId": "77426648-f786-4ca1-beef-fe1a1cb92301"
   },
   "outputs": [
    {
     "data": {
      "image/png": "[encoded data removed]",
      "text/plain": [
       "<Figure size 432x288 with 1 Axes>"
      ]
     },
     "metadata": {
      "tags": []
     },
     "output_type": "display_data"
    }
   ],
   "source": [
    "# Import matplotlib for plotting and use magic command for Jupyter Notebooks\n",
    "import matplotlib.pyplot as plt\n",
    "%matplotlib inline\n",
    "# Set the style\n",
    "plt.style.use('fivethirtyeight')\n",
    "# list of x locations for plotting\n",
    "x_values = list(range(len(importances)))\n",
    "# Make a bar chart\n",
    "plt.bar(x_values, importances, orientation = 'vertical')\n",
    "# Tick labels for x axis\n",
    "plt.xticks(x_values, feature_list, rotation='vertical')\n",
    "# Axis labels and title\n",
    "plt.ylabel('Importance'); plt.xlabel('Variable'); plt.title('Variable Importances');"
   ]
  },
  {
   "cell_type": "code",
   "execution_count": 26,
   "metadata": {
    "id": "L338u9PQcHpE"
   },
   "outputs": [],
   "source": [
    "import pickle\n",
    "with open('model1.pkl', 'wb') as file:\n",
    "    pickle.dump(rf, file)"
   ]
  },
  {
   "cell_type": "code",
   "execution_count": null,
   "metadata": {},
   "outputs": [],
   "source": []
  }
 ],
 "metadata": {
  "colab": {
   "collapsed_sections": [],
   "name": "pcod/pcos detection.ipynb",
   "provenance": []
  },
  "kernelspec": {
   "display_name": "Python 3",
   "language": "python",
   "name": "python3"
  },
  "language_info": {
   "codemirror_mode": {
    "name": "ipython",
    "version": 3
   },
   "file_extension": ".py",
   "mimetype": "text/x-python",
   "name": "python",
   "nbconvert_exporter": "python",
   "pygments_lexer": "ipython3",
   "version": "3.8.3"
  }
 },
 "nbformat": 4,
 "nbformat_minor": 1
}
